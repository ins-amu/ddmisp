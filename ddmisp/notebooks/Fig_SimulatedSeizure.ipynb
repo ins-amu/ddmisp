{
 "cells": [
  {
   "cell_type": "code",
   "execution_count": 2,
   "metadata": {
    "jupyter": {
     "outputs_hidden": false
    }
   },
   "outputs": [],
   "source": [
    "import sys\n",
    "import os\n",
    "import glob\n",
    "import zipfile\n",
    "\n",
    "import numpy as np\n",
    "import matplotlib.pyplot as plt\n",
    "from matplotlib.collections import LineCollection\n",
    "from matplotlib import gridspec, patches, cm\n",
    "\n",
    "sys.path.append(\"..\")\n",
    "import util.io as io\n",
    "from util.plot import add_panel_letters, add_brain_regions, add_mask\n",
    "\n",
    "%matplotlib inline"
   ]
  },
  {
   "cell_type": "code",
   "execution_count": 10,
   "metadata": {
    "jupyter": {
     "outputs_hidden": false
    }
   },
   "outputs": [],
   "source": [
    "def mark(axes, x, y, **args):\n",
    "    defargs = dict(ec='k', lw=0.5, zorder=10, clip_on=False)\n",
    "    defargs.update(args)\n",
    "    for ax in axes:\n",
    "        ax.scatter(x, y, **defargs)  "
   ]
  },
  {
   "cell_type": "markdown",
   "metadata": {},
   "source": [
    "## z and seizure plot with simulated data"
   ]
  },
  {
   "cell_type": "code",
   "execution_count": 3,
   "metadata": {},
   "outputs": [],
   "source": [
    "def expbilin(y, c, q):\n",
    "    c1, c2 = -1, 1\n",
    "    y1, y2 = 0, 1\n",
    "    q11, q12, qa21, qa22 = q\n",
    "    q21 = q11 + qa21\n",
    "    q22 = q12 + qa22\n",
    "\n",
    "    return np.exp(1./((c2 - c1)*(y2 - y1)) * (  q11*(c2 - c)*(y2 - y) + q21*(c - c1)*(y2 - y)\n",
    "                                              + q12*(c2 - c)*(y - y1) + q22*(c - c1)*(y - y1)))\n",
    "\n",
    "def prop(c, w, q, nt=1000):\n",
    "    TLIM = 90.0\n",
    "    \n",
    "    nreg = len(c)\n",
    "\n",
    "    t = np.zeros(nreg)\n",
    "\n",
    "    x = np.zeros(nreg, dtype=int)\n",
    "    z = np.zeros(nreg, dtype=float)\n",
    "    \n",
    "    \n",
    "    ts = np.linspace(0, TLIM, nt, endpoint=True)\n",
    "    zs = np.zeros((nreg, nt), dtype=float)\n",
    "\n",
    "    regs = np.r_[:nreg]\n",
    "\n",
    "    time = 0.0\n",
    "    for i in range(nreg):\n",
    "        y = np.dot(w, x)\n",
    "        fy = expbilin(y, c, q)\n",
    "\n",
    "        # First to switch\n",
    "        dts = np.divide(1.0 - z, fy, out=np.Inf * np.ones_like(fy), where=fy!=0)\n",
    "\n",
    "        mask = x < 0.5\n",
    "        dt, reg_to_switch = min(zip(dts[mask], regs[mask]))\n",
    "\n",
    "        if np.isinf(dt):\n",
    "            raise ValueError(\"Numerical error\")\n",
    "        \n",
    "        tmask = (ts >= time) * (ts < time + dt)\n",
    "        for reg in range(nreg):\n",
    "            zs[reg, tmask] = np.linspace(z[reg], z[reg] + dt*fy[reg], np.sum(tmask), endpoint=False)\n",
    "            \n",
    "\n",
    "        z += dt * fy\n",
    "\n",
    "        time += dt\n",
    "        x[reg_to_switch] = 1\n",
    "        t[reg_to_switch] = time        \n",
    "        \n",
    "\n",
    "    return t, ts, zs"
   ]
  },
  {
   "cell_type": "code",
   "execution_count": 5,
   "metadata": {},
   "outputs": [],
   "source": [
    "w = np.genfromtxt(\"../data/conn/vep/id001.txt\")\n",
    "nreg = w.shape[0]"
   ]
  },
  {
   "cell_type": "code",
   "execution_count": 6,
   "metadata": {},
   "outputs": [],
   "source": [
    "q = [-12.699722249999999, 15.479622175000001, 5.527035135, 75.21215649999999]"
   ]
  },
  {
   "cell_type": "code",
   "execution_count": 7,
   "metadata": {},
   "outputs": [],
   "source": [
    "np.random.seed(64)\n",
    "c = np.random.normal(0, 1, nreg)"
   ]
  },
  {
   "cell_type": "code",
   "execution_count": 8,
   "metadata": {},
   "outputs": [],
   "source": [
    "t, ts, zs = prop(c, w, q)"
   ]
  },
  {
   "cell_type": "code",
   "execution_count": 13,
   "metadata": {
    "jupyter": {
     "outputs_hidden": false
    }
   },
   "outputs": [
    {
     "data": {
      "image/png": "[encoded data removed]",
      "text/plain": [
       "<Figure size 720x360 with 5 Axes>"
      ]
     },
     "metadata": {
      "needs_background": "light"
     },
     "output_type": "display_data"
    }
   ],
   "source": [
    "fig = plt.figure(figsize=(10, 5))\n",
    "\n",
    "gs = gridspec.GridSpec(1, 3, width_ratios=[0.15, 1, 0.8], wspace=0.2,\n",
    "                       left=0.06, right=0.98, top=0.92, bottom=0.1)\n",
    "\n",
    "ax0 = plt.subplot(gs[0])\n",
    "plt.imshow(c[:, None], vmin=-2.5, vmax=2.5, aspect='auto', origin='upper', cmap='Reds', extent=[0, 1, nreg, 0])\n",
    "plt.colorbar(shrink=0.5, pad=0.15, fraction=0.5)\n",
    "plt.xticks([]);\n",
    "plt.xlim(0, 1)\n",
    "add_brain_regions(ax0, pad=5, width=5, coord='display')\n",
    "plt.title(\"$c$\")\n",
    "plt.ylabel(\"Region\", labelpad=25, fontsize=12)\n",
    "\n",
    "ax1 = plt.subplot(gs[1])\n",
    "plt.imshow(zs, vmin=0, vmax=1, aspect='auto', origin='upper', extent=[0, 90.0, nreg, 0])\n",
    "plt.colorbar(shrink=0.5, pad=0.03)\n",
    "plt.xlim(0, 90.)\n",
    "plt.title(\"$z$\")\n",
    "# plt.yticks([])\n",
    "add_brain_regions(ax1, labels=False, pad=5, width=5, coord='display')\n",
    "plt.xlabel(\"Time [s]\")\n",
    "plt.xticks(np.r_[0:91:10])\n",
    "\n",
    "ax2 = plt.subplot(gs[2])\n",
    "plt.imshow(zs >= 1., vmin=0, vmax=1, cmap='bwr', aspect='auto', origin='upper', extent=[0, 90.0, nreg, 0])\n",
    "plt.xlim(0, 90.)\n",
    "add_brain_regions(ax2, labels=False, pad=5, width=5, coord='display')\n",
    "plt.title(\"State\")\n",
    "plt.xlabel(\"Time [s]\")\n",
    "plt.xticks(np.r_[0:91:10])\n",
    "\n",
    "\n",
    "legend_elements = [patches.Patch(facecolor='b', edgecolor='k', label=\"Non-seizing\"),\n",
    "                   patches.Patch(facecolor='r', edgecolor='k', label=\"Seizing\")]\n",
    "ax2.legend(handles=legend_elements, loc='lower left', borderaxespad=1.5)\n",
    "\n",
    "add_panel_letters(fig, [ax0, ax1, ax2], fontsize=20, xpos=[-1.2, -0.08, -0.08], ypos=1.03)\n",
    "\n",
    "mark([ax1, ax2], 27, 57, marker='^', color='white',   s=50)\n",
    "mark([ax1, ax2], 48,  7, marker='^', color='lime',    s=50)\n",
    "mark([ax1, ax2], 63, 43, marker='o', color='magenta', s=50)\n",
    "\n",
    "plt.savefig(\"img/simulated-seizure.pdf\", dpi=300)"
   ]
  },
  {
   "cell_type": "code",
   "execution_count": null,
   "metadata": {},
   "outputs": [],
   "source": []
  }
 ],
 "metadata": {
  "kernelspec": {
   "display_name": "Python 3",
   "language": "python",
   "name": "python3"
  },
  "language_info": {
   "codemirror_mode": {
    "name": "ipython",
    "version": 3
   },
   "file_extension": ".py",
   "mimetype": "text/x-python",
   "name": "python",
   "nbconvert_exporter": "python",
   "pygments_lexer": "ipython3",
   "version": "3.7.6"
  }
 },
 "nbformat": 4,
 "nbformat_minor": 4
}
