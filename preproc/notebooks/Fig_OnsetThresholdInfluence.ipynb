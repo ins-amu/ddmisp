{
 "cells": [
  {
   "cell_type": "code",
   "execution_count": 3,
   "metadata": {},
   "outputs": [],
   "source": [
    "import os\n",
    "import json\n",
    "import sys\n",
    "import glob\n",
    "\n",
    "import numpy as np\n",
    "import matplotlib.pyplot as plt\n",
    "from matplotlib import gridspec\n",
    "import pandas as pd\n",
    "\n",
    "sys.path.append(\"..\")\n",
    "import util\n",
    "\n",
    "%matplotlib inline"
   ]
  },
  {
   "cell_type": "code",
   "execution_count": 89,
   "metadata": {},
   "outputs": [],
   "source": [
    "direcs = sorted(glob.glob(\"../run/onset_channels/INC_*\"))\n",
    "thresholds = np.array([float(os.path.split(d)[1][4:]) for d in direcs])\n",
    "ref = 5.0\n",
    "iref = np.where(thresholds == ref)[0][0]\n",
    "sids = range(1, 51)"
   ]
  },
  {
   "cell_type": "markdown",
   "metadata": {},
   "source": [
    "## Load data"
   ]
  },
  {
   "cell_type": "code",
   "execution_count": 90,
   "metadata": {},
   "outputs": [],
   "source": [
    "results = []\n",
    "\n",
    "for direc, threshold in zip(direcs, thresholds):\n",
    "    for sid in sids:\n",
    "        with open(os.path.join(direc, f\"id{sid:03d}.json\")) as fh:\n",
    "            data = json.load(fh)\n",
    "        for sdata in data:\n",
    "            rid = sdata['rid']\n",
    "            for ch in sdata['channels_nonseizing']:\n",
    "                results.append({'sid': sid, 'rid': rid, 'channel': ch, 'threshold': threshold,\n",
    "                                'seizing': False, 'time': np.nan})\n",
    "            for ch, time in zip(sdata['channels_seizing'], sdata['onset_times']):\n",
    "                results.append({'sid': sid, 'rid': rid, 'channel': ch, 'threshold': threshold,\n",
    "                                'seizing': True, 'time': time})\n",
    "\n",
    "df = pd.DataFrame(results)"
   ]
  },
  {
   "cell_type": "markdown",
   "metadata": {},
   "source": [
    "## Analyze data"
   ]
  },
  {
   "cell_type": "code",
   "execution_count": 91,
   "metadata": {},
   "outputs": [
    {
     "name": "stdout",
     "output_type": "stream",
     "text": [
      " 2.5000  14571 0.77\n",
      " 3.1498  14571 0.74\n",
      " 3.9685  14571 0.70\n",
      " 5.0000  14571 0.66\n",
      " 6.2996  14571 0.63\n",
      " 7.9370  14571 0.59\n",
      "10.0000  14571 0.55\n",
      "12.5992  14571 0.52\n",
      "15.8740  14571 0.49\n",
      "20.0000  14571 0.45\n"
     ]
    }
   ],
   "source": [
    "nseizing = []\n",
    "for thr in thresholds:    \n",
    "    dff = df[df.threshold == thr]\n",
    "    nseizing.append(np.mean(dff.seizing))\n",
    "    print(f\"{thr:7.4f}  {len(dff)} {np.mean(dff.seizing):.2f}\")\n",
    "nseizing = np.array(nseizing)"
   ]
  },
  {
   "cell_type": "code",
   "execution_count": 92,
   "metadata": {},
   "outputs": [],
   "source": [
    "df = df.sort_values(by=['sid', 'rid', 'threshold', 'channel'])"
   ]
  },
  {
   "cell_type": "code",
   "execution_count": 93,
   "metadata": {},
   "outputs": [],
   "source": [
    "dfref = df[df.threshold == thresholds[iref]]\n",
    "dfref = dfref.reset_index()\n",
    "mask = ~dfref.time.isna()"
   ]
  },
  {
   "cell_type": "code",
   "execution_count": 113,
   "metadata": {},
   "outputs": [],
   "source": [
    "INF = 1000000 # Because np.percentile does not work well with np.inf\n",
    "\n",
    "tdif = np.zeros((3, len(thresholds)))\n",
    "\n",
    "for i, thr in enumerate(thresholds):\n",
    "    dff = df[df.threshold == thr].reset_index()\n",
    "    dt = dff[mask].time - dfref[mask].time\n",
    "    \n",
    "    dt[dt.isna()] = INF if thr > thresholds[iref] else -INF\n",
    "    tdif[:, i] = np.percentile(dt, [10, 50, 90])"
   ]
  },
  {
   "cell_type": "markdown",
   "metadata": {},
   "source": [
    "## Figure"
   ]
  },
  {
   "cell_type": "code",
   "execution_count": 118,
   "metadata": {},
   "outputs": [
    {
     "data": {
      "image/png": "[encoded data removed]",
      "text/plain": [
       "<Figure size 432x144 with 3 Axes>"
      ]
     },
     "metadata": {
      "needs_background": "light"
     },
     "output_type": "display_data"
    }
   ],
   "source": [
    "fig = plt.figure(figsize=(6, 2))\n",
    "\n",
    "gs = gridspec.GridSpec(1, 2, left=0.16, right=0.98, bottom=0.24, top=0.94, wspace=0.7)\n",
    "\n",
    "ax1 = plt.subplot(gs[0])\n",
    "plt.plot(thresholds, 100*nseizing, 'x-')\n",
    "plt.xlabel(\"Threshold\")\n",
    "plt.ylabel(\"Seizing channels [%]\")\n",
    "plt.axvline(thresholds[iref], color='k', ls='--')\n",
    "\n",
    "ax2 = plt.subplot(gs[1])\n",
    "plt.plot(thresholds, tdif[1, :], 'x-', color='tab:blue')\n",
    "plt.fill_between(thresholds, tdif[0, :], tdif[2, :], color='tab:blue', alpha=0.3)\n",
    "plt.xlabel(\"Threshold\")\n",
    "plt.ylabel(\"Onset time\\ndifference [s]\")\n",
    "plt.axvline(thresholds[iref], color='k', ls='--')\n",
    "plt.ylim(-30, 40)\n",
    "\n",
    "bg = util.plot.Background(visible=False)\n",
    "util.plot.add_panel_letters(fig, [ax1, ax2], fontsize=18, xpos=-0.45, ypos=0.9)\n",
    "\n",
    "plt.savefig(\"./img/onset-detection-threshold.pdf\")"
   ]
  },
  {
   "cell_type": "code",
   "execution_count": null,
   "metadata": {},
   "outputs": [],
   "source": []
  }
 ],
 "metadata": {
  "kernelspec": {
   "display_name": "Python 3",
   "language": "python",
   "name": "python3"
  },
  "language_info": {
   "codemirror_mode": {
    "name": "ipython",
    "version": 3
   },
   "file_extension": ".py",
   "mimetype": "text/x-python",
   "name": "python",
   "nbconvert_exporter": "python",
   "pygments_lexer": "ipython3",
   "version": "3.7.6"
  }
 },
 "nbformat": 4,
 "nbformat_minor": 4
}
